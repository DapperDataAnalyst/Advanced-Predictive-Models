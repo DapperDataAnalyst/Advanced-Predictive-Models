{
 "cells": [
  {
   "cell_type": "markdown",
   "metadata": {},
   "source": [
    "# Staff-Graded Matrix Completion"
   ]
  },
  {
   "cell_type": "markdown",
   "metadata": {},
   "source": [
    "### Part(a)"
   ]
  },
  {
   "cell_type": "code",
   "execution_count": 87,
   "metadata": {},
   "outputs": [
    {
     "name": "stdout",
     "output_type": "stream",
     "text": [
      "Maximum Value: 5.0\n",
      "Minimum Value: 0.5\n",
      "Average Value: 3.297080189685473\n"
     ]
    }
   ],
   "source": [
    "import numpy as np\n",
    "import pandas as pd\n",
    "import warnings\n",
    "warnings.filterwarnings('ignore')\n",
    "\n",
    "# Import data as pandas df, convert to np.array\n",
    "data = np.asarray(pd.read_csv('MovieReviewMat.csv', header=None))\n",
    "titles = data[0,1:] # Save movie titles\n",
    "data = data[1:,1:] # Save all rows except movie titles\n",
    "\n",
    "# Replace string 'NA' and blank with np.nan\n",
    "data[data == 'NA'] = np.nan\n",
    "data[data == ''] = np.nan\n",
    "\n",
    "# Remove header rows and column, and ensure all values are float type\n",
    "matrix = data[1:,:].astype(float)\n",
    "\n",
    "# Find values\n",
    "max_val = np.nanmax(matrix)\n",
    "min_val = np.nanmin(matrix)\n",
    "avg_val = np.nanmean(matrix)\n",
    "\n",
    "print(f'Maximum Value: {max_val}')\n",
    "print(f'Minimum Value: {min_val}')\n",
    "print(f'Average Value: {avg_val}')\n"
   ]
  },
  {
   "cell_type": "markdown",
   "metadata": {},
   "source": [
    "The maximum rating in the data is 5.0, and the minimum rating is 0.5\n",
    "\n",
    "The average rating is approximately 3.3"
   ]
  },
  {
   "cell_type": "markdown",
   "metadata": {},
   "source": [
    "### Part (b)"
   ]
  },
  {
   "cell_type": "code",
   "execution_count": 88,
   "metadata": {},
   "outputs": [
    {
     "name": "stdout",
     "output_type": "stream",
     "text": [
      "Five-star reviews for individual indexed at 1460, by genre:\n",
      "                  Genre  Score\n",
      "8                Drama      6\n",
      "5               Comedy      5\n",
      "2            Adventure      3\n",
      "6                Crime      3\n",
      "1               Action      3\n",
      "15             Romance      2\n",
      "19             Western      1\n",
      "18                 War      1\n",
      "17            Thriller      1\n",
      "16              Sci-Fi      1\n",
      "9              Fantasy      1\n",
      "11              Horror      1\n",
      "14             Mystery      0\n",
      "0   (no genres listed)      0\n",
      "13             Musical      0\n",
      "12                IMAX      0\n",
      "7          Documentary      0\n",
      "4             Children      0\n",
      "3            Animation      0\n",
      "10           Film-Noir      0\n",
      "\n",
      "Two movies rated five stars by individual indexed at 1460:\n",
      "['Taxi Driver (1976)', 'Rob Roy (1995)']\n",
      "\n",
      "\n",
      "\n",
      "Five-star reviews for individual indexed at 43, by genre:\n",
      "                  Genre  Score\n",
      "8                Drama      5\n",
      "19             Western      1\n",
      "18                 War      1\n",
      "5               Comedy      1\n",
      "15             Romance      1\n",
      "9              Fantasy      1\n",
      "12                IMAX      0\n",
      "17            Thriller      0\n",
      "16              Sci-Fi      0\n",
      "14             Mystery      0\n",
      "13             Musical      0\n",
      "0   (no genres listed)      0\n",
      "11              Horror      0\n",
      "1               Action      0\n",
      "7          Documentary      0\n",
      "6                Crime      0\n",
      "4             Children      0\n",
      "3            Animation      0\n",
      "2            Adventure      0\n",
      "10           Film-Noir      0\n",
      "\n",
      "Two movies rated five stars by individual indexed at 43:\n",
      "['Sting, The (1973)', 'Jack (1996)']\n"
     ]
    }
   ],
   "source": [
    "# Find genre labels and scores for individual\n",
    "headers = data[0,1:]\n",
    "scores_1460 = matrix[1460,:]\n",
    "scores_43 = matrix[43,:]\n",
    "\n",
    "def fivestar_review_count(headers, scores) -> list:\n",
    "    # Concatenate all genre labels into one string\n",
    "    string = str()\n",
    "    for cell in headers:\n",
    "        string += cell + '|'\n",
    "\n",
    "    # Create function finds indeces of pipe character in concatenated string,\n",
    "    # returns indeces in a list\n",
    "    def find_letter(string, char):\n",
    "        return [i for i, letter in enumerate(string) if letter == char]\n",
    "\n",
    "    # Use function to find indeces list\n",
    "    indeces = find_letter(string, '|')\n",
    "\n",
    "    # Initialize empty list\n",
    "    genre_list = list()\n",
    "\n",
    "    # Fill empty list with non-unique genre names\n",
    "    for i in range(len(indeces)):\n",
    "        if i > 0:\n",
    "            genre_list.append(string[indeces[i-1]+1:indeces[i]])\n",
    "        else:\n",
    "            genre_list.append(string[:indeces[i]])\n",
    "                            \n",
    "    # Unique-ify the genre list\n",
    "    unique_genres = set(genre_list)\n",
    "    unique_genres = list(unique_genres)\n",
    "    unique_genres.sort()\n",
    "\n",
    "    # Create dictionary of unique genre names and placeholder zero counts\n",
    "    reviews_dict = {'Genre': unique_genres,\n",
    "                    'Score': list(np.repeat(0, len(unique_genres)))}\n",
    "    # Convert dictionary to data frame\n",
    "    fivestar_reviews = pd.DataFrame(reviews_dict)\n",
    "\n",
    "    # Loop through headers and unique genres to find the five-star review count\n",
    "    # for each unique genre\n",
    "    name_pair = list()\n",
    "    i = 0\n",
    "    for genre in fivestar_reviews['Genre']:\n",
    "        j = 0\n",
    "        for genre_combo in headers:\n",
    "            if genre in genre_combo and scores[j] == 5:\n",
    "                fivestar_reviews['Score'][i] += 1\n",
    "                if len(name_pair) < 2:\n",
    "                    name_pair.append(titles[j])\n",
    "            j += 1\n",
    "        i += 1\n",
    "\n",
    "    # Sort by score (desc) and return\n",
    "    fivestar_reviews = fivestar_reviews.sort_values(by=['Score'], ascending=False)\n",
    "    return [fivestar_reviews, name_pair]\n",
    "\n",
    "\n",
    "print(f'Five-star reviews for individual indexed at 1460, by genre:\\n {fivestar_review_count(headers, scores_1460)[0]}')\n",
    "print(f'\\nTwo movies rated five stars by individual indexed at 1460:\\n{fivestar_review_count(headers, scores_1460)[1]}')\n",
    "print('\\n\\n')\n",
    "print(f'Five-star reviews for individual indexed at 43, by genre:\\n {fivestar_review_count(headers, scores_43)[0]}')\n",
    "print(f'\\nTwo movies rated five stars by individual indexed at 43:\\n{fivestar_review_count(headers, scores_43)[1]}')"
   ]
  },
  {
   "cell_type": "markdown",
   "metadata": {},
   "source": [
    "The first table above, which counts only five-star reviews, shows that indvidual 1460 tends to give the most five-star reviews to movies in the Drama genre. Two movies that this individual rates with a 5 are *Taxi Driver* and *Rob Roy*.\n",
    "\n",
    "The second table shows that individual 43 gives the most five-star reviews to movies in the Drama genre, similar to the other individual. However, individual 43 seems to have given far fewer five-star reviews than individual 1460. Two movies that this individual rates with a 5 are *The Sting* and *Jack*.\n",
    "\n",
    "### Part (c)\n",
    "\n",
    "I estimate that we will find two broad classes of individuals in the rating data: Those who give five-star reviews to many different movies, and those who give five-star reviews to only one or two genres of movies.\n",
    "\n",
    "This phenomenon could be explained by the proclivity of some people to rather freely give a five-star rating to a film. Additionally, some people are movie enthusiasts, tending to watch more movies than the average individual and thus having more opportunity to give any review at all.\n",
    "\n",
    "### Part (d)"
   ]
  },
  {
   "cell_type": "code",
   "execution_count": null,
   "metadata": {},
   "outputs": [],
   "source": [
    "k = 2\n"
   ]
  }
 ],
 "metadata": {
  "kernelspec": {
   "display_name": ".venv",
   "language": "python",
   "name": "python3"
  },
  "language_info": {
   "codemirror_mode": {
    "name": "ipython",
    "version": 3
   },
   "file_extension": ".py",
   "mimetype": "text/x-python",
   "name": "python",
   "nbconvert_exporter": "python",
   "pygments_lexer": "ipython3",
   "version": "3.11.4"
  },
  "orig_nbformat": 4
 },
 "nbformat": 4,
 "nbformat_minor": 2
}
