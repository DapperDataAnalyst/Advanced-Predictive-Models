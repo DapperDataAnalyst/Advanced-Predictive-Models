{
 "cells": [
  {
   "cell_type": "markdown",
   "metadata": {},
   "source": [
    "# Staff-Graded Matrix Completion"
   ]
  },
  {
   "cell_type": "markdown",
   "metadata": {},
   "source": [
    "### Part(a)"
   ]
  },
  {
   "cell_type": "code",
   "execution_count": 41,
   "metadata": {},
   "outputs": [
    {
     "name": "stdout",
     "output_type": "stream",
     "text": [
      "Maximum Value: 5.0\n",
      "Minimum Value: 0.5\n",
      "Average Value: 3.297080189685473\n"
     ]
    }
   ],
   "source": [
    "import numpy as np\n",
    "import pandas as pd\n",
    "import warnings\n",
    "warnings.filterwarnings('ignore')\n",
    "\n",
    "# Import data as pandas df, convert to np.array\n",
    "data = np.asarray(pd.read_csv('MovieReviewMat.csv'))\n",
    "\n",
    "# Replace string 'NA' and blank with np.nan\n",
    "data[data == 'NA'] = np.nan\n",
    "data[data == ''] = np.nan\n",
    "\n",
    "# Remove header rows and column, and ensure all values are float type\n",
    "matrix = data[1:, 1:].astype(float)\n",
    "\n",
    "# Find values\n",
    "max_val = np.nanmax(matrix)\n",
    "min_val = np.nanmin(matrix)\n",
    "avg_val = np.nanmean(matrix)\n",
    "\n",
    "print(f'Maximum Value: {max_val}')\n",
    "print(f'Minimum Value: {min_val}')\n",
    "print(f'Average Value: {avg_val}')\n"
   ]
  },
  {
   "cell_type": "markdown",
   "metadata": {},
   "source": [
    "The maximum rating in the data is 5.0, and the minimum rating is 0.5\n",
    "\n",
    "The average rating is approximately 3.3"
   ]
  },
  {
   "cell_type": "markdown",
   "metadata": {},
   "source": [
    "### Part (b)"
   ]
  },
  {
   "cell_type": "code",
   "execution_count": 52,
   "metadata": {},
   "outputs": [
    {
     "name": "stdout",
     "output_type": "stream",
     "text": [
      "Five-star reviews for individual indexed at 1460:\n",
      "                  Genre  Score\n",
      "8                Drama     11\n",
      "15             Romance      4\n",
      "4             Children      2\n",
      "1               Action      2\n",
      "13             Musical      1\n",
      "2            Adventure      1\n",
      "18                 War      1\n",
      "17            Thriller      1\n",
      "6                Crime      1\n",
      "16              Sci-Fi      1\n",
      "9              Fantasy      1\n",
      "0   (no genres listed)      0\n",
      "14             Mystery      0\n",
      "10           Film-Noir      0\n",
      "12                IMAX      0\n",
      "11              Horror      0\n",
      "7          Documentary      0\n",
      "5               Comedy      0\n",
      "3            Animation      0\n",
      "19             Western      0\n",
      "\n",
      "Five-star reviews for individual indexed at 43:\n",
      "                  Genre  Score\n",
      "5               Comedy      5\n",
      "8                Drama      2\n",
      "2            Adventure      1\n",
      "6                Crime      1\n",
      "16              Sci-Fi      1\n",
      "9              Fantasy      1\n",
      "15             Romance      1\n",
      "0   (no genres listed)      0\n",
      "13             Musical      0\n",
      "18                 War      0\n",
      "17            Thriller      0\n",
      "14             Mystery      0\n",
      "10           Film-Noir      0\n",
      "12                IMAX      0\n",
      "11              Horror      0\n",
      "1               Action      0\n",
      "7          Documentary      0\n",
      "4             Children      0\n",
      "3            Animation      0\n",
      "19             Western      0\n"
     ]
    }
   ],
   "source": [
    "# Find genre labels and scores for individual\n",
    "headers = data[0,1:]\n",
    "scores_1460 = matrix[1460,:]\n",
    "scores_43 = matrix[43,:]\n",
    "\n",
    "def fivestar_review_count(headers, scores):\n",
    "    # Concatenate all genre labels into one string\n",
    "    string = str()\n",
    "    for cell in headers:\n",
    "        string += cell + '|'\n",
    "\n",
    "    # Create function finds indeces of pipe character in concatenated string,\n",
    "    # returns indeces in a list\n",
    "    def find_letter(string, char):\n",
    "        return [i for i, letter in enumerate(string) if letter == char]\n",
    "\n",
    "    # Use function to find indeces list\n",
    "    indeces = find_letter(string, '|')\n",
    "\n",
    "    # Initialize empty list\n",
    "    genre_list = list()\n",
    "\n",
    "    # Fill empty list with non-unique genre names\n",
    "    for i in range(len(indeces)):\n",
    "        if i > 0:\n",
    "            genre_list.append(string[indeces[i-1]+1:indeces[i]])\n",
    "        else:\n",
    "            genre_list.append(string[:indeces[i]])\n",
    "                            \n",
    "    # Unique-ify the genre list\n",
    "    unique_genres = set(genre_list)\n",
    "    unique_genres = list(unique_genres)\n",
    "    unique_genres.sort()\n",
    "\n",
    "\n",
    "    reviews_dict = {'Genre': unique_genres,\n",
    "                    'Score': list(np.repeat(0, len(unique_genres)))}\n",
    "\n",
    "    fivestar_reviews = pd.DataFrame(reviews_dict)\n",
    "\n",
    "    i = 0\n",
    "    for genre in fivestar_reviews['Genre']:\n",
    "        j = 0\n",
    "        for genre_combo in headers:\n",
    "            if genre in genre_combo and scores[j] == 5:\n",
    "                fivestar_reviews['Score'][i] += 1\n",
    "            j += 1\n",
    "        i += 1\n",
    "\n",
    "    fivestar_reviews = fivestar_reviews.sort_values(by=['Score'], ascending=False)\n",
    "    return fivestar_reviews\n",
    "\n",
    "\n",
    "print(f'Five-star reviews for individual indexed at 1460, by genre:\\n {fivestar_review_count(headers, scores_1460)}\\n')\n",
    "print(f'Five-star reviews for individual indexed at 43, by genre:\\n {fivestar_review_count(headers, scores_43)}')"
   ]
  },
  {
   "cell_type": "markdown",
   "metadata": {},
   "source": [
    "The first table above, which counts only five-star reviews, shows that indvidual 1460 tends to give the most five-star reviews to movies in the Drama genre.\n",
    "\n",
    "The second table shows that individual 43 gives the most five-star reviews to movies in the Comedy genre.\n",
    "\n"
   ]
  }
 ],
 "metadata": {
  "kernelspec": {
   "display_name": ".venv",
   "language": "python",
   "name": "python3"
  },
  "language_info": {
   "codemirror_mode": {
    "name": "ipython",
    "version": 3
   },
   "file_extension": ".py",
   "mimetype": "text/x-python",
   "name": "python",
   "nbconvert_exporter": "python",
   "pygments_lexer": "ipython3",
   "version": "3.11.4"
  },
  "orig_nbformat": 4
 },
 "nbformat": 4,
 "nbformat_minor": 2
}
