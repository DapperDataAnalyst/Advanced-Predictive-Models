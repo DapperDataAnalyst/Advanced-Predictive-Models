{
 "cells": [
  {
   "cell_type": "markdown",
   "metadata": {},
   "source": [
    "# Staff-Graded Matrix Completion"
   ]
  },
  {
   "cell_type": "markdown",
   "metadata": {},
   "source": [
    "### Part(a)"
   ]
  },
  {
   "cell_type": "code",
   "execution_count": 141,
   "metadata": {},
   "outputs": [
    {
     "name": "stdout",
     "output_type": "stream",
     "text": [
      "Maximum Value: 5.0\n",
      "Minimum Value: 0.5\n",
      "Average Value: 3.297080189685473\n"
     ]
    }
   ],
   "source": [
    "import numpy as np\n",
    "import pandas as pd\n",
    "import math\n",
    "import warnings\n",
    "warnings.filterwarnings('ignore')\n",
    "\n",
    "# Import data as pandas df, convert to np.array\n",
    "data = np.asarray(pd.read_csv('MovieReviewMat.csv', header=None))\n",
    "titles = data[0,1:] # Save movie titles\n",
    "data = data[1:,1:] # Save all rows except movie titles\n",
    "\n",
    "# Replace string 'NA' and blank with np.nan\n",
    "data[data == 'NA'] = np.nan\n",
    "data[data == ''] = np.nan\n",
    "\n",
    "# Remove header rows and column, and ensure all values are float type\n",
    "matrix = data[1:,:].astype(float)\n",
    "\n",
    "# Find values\n",
    "max_val = np.nanmax(matrix)\n",
    "min_val = np.nanmin(matrix)\n",
    "avg_val = np.nanmean(matrix)\n",
    "\n",
    "print(f'Maximum Value: {max_val}')\n",
    "print(f'Minimum Value: {min_val}')\n",
    "print(f'Average Value: {avg_val}')\n"
   ]
  },
  {
   "cell_type": "markdown",
   "metadata": {},
   "source": [
    "The maximum rating in the data is 5.0, and the minimum rating is 0.5\n",
    "\n",
    "The average rating is approximately 3.3"
   ]
  },
  {
   "cell_type": "markdown",
   "metadata": {},
   "source": [
    "### Part (b)"
   ]
  },
  {
   "cell_type": "code",
   "execution_count": 142,
   "metadata": {},
   "outputs": [
    {
     "name": "stdout",
     "output_type": "stream",
     "text": [
      "Five-star reviews for individual indexed at 1460, by genre:\n",
      "                  Genre  Score\n",
      "8                Drama      6\n",
      "5               Comedy      5\n",
      "2            Adventure      3\n",
      "6                Crime      3\n",
      "1               Action      3\n",
      "15             Romance      2\n",
      "19             Western      1\n",
      "18                 War      1\n",
      "17            Thriller      1\n",
      "16              Sci-Fi      1\n",
      "9              Fantasy      1\n",
      "11              Horror      1\n",
      "14             Mystery      0\n",
      "0   (no genres listed)      0\n",
      "13             Musical      0\n",
      "12                IMAX      0\n",
      "7          Documentary      0\n",
      "4             Children      0\n",
      "3            Animation      0\n",
      "10           Film-Noir      0\n",
      "\n",
      "Two movies rated five stars by individual indexed at 1460:\n",
      "['Taxi Driver (1976)', 'Rob Roy (1995)']\n",
      "\n",
      "\n",
      "\n",
      "Five-star reviews for individual indexed at 43, by genre:\n",
      "                  Genre  Score\n",
      "8                Drama      5\n",
      "19             Western      1\n",
      "18                 War      1\n",
      "5               Comedy      1\n",
      "15             Romance      1\n",
      "9              Fantasy      1\n",
      "12                IMAX      0\n",
      "17            Thriller      0\n",
      "16              Sci-Fi      0\n",
      "14             Mystery      0\n",
      "13             Musical      0\n",
      "0   (no genres listed)      0\n",
      "11              Horror      0\n",
      "1               Action      0\n",
      "7          Documentary      0\n",
      "6                Crime      0\n",
      "4             Children      0\n",
      "3            Animation      0\n",
      "2            Adventure      0\n",
      "10           Film-Noir      0\n",
      "\n",
      "Two movies rated five stars by individual indexed at 43:\n",
      "['Sting, The (1973)', 'Jack (1996)']\n"
     ]
    }
   ],
   "source": [
    "# Find genre labels and scores for individual\n",
    "headers = data[0,1:]\n",
    "scores_1460 = matrix[1460,:]\n",
    "scores_43 = matrix[43,:]\n",
    "\n",
    "def fivestar_review_count(headers, scores) -> list:\n",
    "    # Concatenate all genre labels into one string\n",
    "    string = str()\n",
    "    for cell in headers:\n",
    "        string += cell + '|'\n",
    "\n",
    "    # Create function that finds indeces of pipe character in concatenated string,\n",
    "    # returns indeces in a list\n",
    "    def find_letter(string, char):\n",
    "        return [i for i, letter in enumerate(string) if letter == char]\n",
    "\n",
    "    # Use function to find indeces list\n",
    "    indeces = find_letter(string, '|')\n",
    "\n",
    "    # Initialize empty list\n",
    "    genre_list = list()\n",
    "\n",
    "    # Fill empty list with non-unique genre names\n",
    "    for i in range(len(indeces)):\n",
    "        if i > 0:\n",
    "            genre_list.append(string[indeces[i-1]+1:indeces[i]])\n",
    "        else:\n",
    "            genre_list.append(string[:indeces[i]])\n",
    "                            \n",
    "    # Unique-ify the genre list\n",
    "    unique_genres = set(genre_list)\n",
    "    unique_genres = list(unique_genres)\n",
    "    unique_genres.sort()\n",
    "\n",
    "    # Create dictionary of unique genre names and placeholder zero counts\n",
    "    reviews_dict = {'Genre': unique_genres,\n",
    "                    'Score': list(np.repeat(0, len(unique_genres)))}\n",
    "    # Convert dictionary to data frame\n",
    "    fivestar_reviews = pd.DataFrame(reviews_dict)\n",
    "\n",
    "    # Loop through headers and unique genres to find the five-star review count\n",
    "    # for each unique genre\n",
    "    name_pair = list()\n",
    "    i = 0\n",
    "    for genre in fivestar_reviews['Genre']:\n",
    "        j = 0\n",
    "        for genre_combo in headers:\n",
    "            if genre in genre_combo and scores[j] == 5:\n",
    "                fivestar_reviews['Score'][i] += 1\n",
    "                if len(name_pair) < 2:\n",
    "                    name_pair.append(titles[j])\n",
    "            j += 1\n",
    "        i += 1\n",
    "\n",
    "    # Sort by score (desc) and return\n",
    "    fivestar_reviews = fivestar_reviews.sort_values(by=['Score'], ascending=False)\n",
    "    return [fivestar_reviews, name_pair]\n",
    "\n",
    "\n",
    "print(f'Five-star reviews for individual indexed at 1460, by genre:\\n {fivestar_review_count(headers, scores_1460)[0]}')\n",
    "print(f'\\nTwo movies rated five stars by individual indexed at 1460:\\n{fivestar_review_count(headers, scores_1460)[1]}')\n",
    "print('\\n\\n')\n",
    "print(f'Five-star reviews for individual indexed at 43, by genre:\\n {fivestar_review_count(headers, scores_43)[0]}')\n",
    "print(f'\\nTwo movies rated five stars by individual indexed at 43:\\n{fivestar_review_count(headers, scores_43)[1]}')"
   ]
  },
  {
   "cell_type": "markdown",
   "metadata": {},
   "source": [
    "The first table above, which counts only five-star reviews, shows that indvidual 1460 tends to give the most five-star reviews to movies in the Drama genre. Two movies that this individual rates with a 5 are *Taxi Driver* and *Rob Roy*.\n",
    "\n",
    "The second table shows that individual 43 gives the most five-star reviews to movies in the Drama genre, similar to the other individual. However, individual 43 seems to have given far fewer five-star reviews than individual 1460. Two movies that this individual rates with a 5 are *The Sting* and *Jack*.\n",
    "\n",
    "### Part (c)\n",
    "\n",
    "I estimate that we will find two broad classes of individuals in the rating data: Those who give five-star reviews to many different movies, and those who give five-star reviews to only one or two genres of movies.\n",
    "\n",
    "This phenomenon could be explained by the proclivity of some people to rather freely give a five-star rating to a film. Additionally, some people are movie enthusiasts, tending to watch more movies than the average individual and thus having more opportunity to give any review at all.\n",
    "\n",
    "### Part (d)"
   ]
  },
  {
   "cell_type": "code",
   "execution_count": 143,
   "metadata": {},
   "outputs": [
    {
     "name": "stdout",
     "output_type": "stream",
     "text": [
      "Jumanji rating:\n",
      "1.515753118340659\n"
     ]
    }
   ],
   "source": [
    "# Set estimated ideal k value according to Part (c)\n",
    "k = 13\n",
    "\n",
    "# Replace NaN values with zeroes\n",
    "matrix = np.nan_to_num(matrix)\n",
    "\n",
    "# Perform SVD\n",
    "u, s, vt = np.linalg.svd(matrix)\n",
    "\n",
    "# Reconstruct\n",
    "matrix_reconst = u[:,0:k] @ np.diag(s[0:k]) @ vt[0:k,:]\n",
    "print(f'Jumanji rating:\\n{matrix_reconst[43,1]}')"
   ]
  },
  {
   "cell_type": "markdown",
   "metadata": {},
   "source": [
    "From this SVD analysis, we estimate that this user would give the movie *Jumanji* a rating of approximately 1.55"
   ]
  },
  {
   "cell_type": "code",
   "execution_count": 144,
   "metadata": {},
   "outputs": [
    {
     "name": "stdout",
     "output_type": "stream",
     "text": [
      "Average difference:\n",
      "1.7521163098864303\n"
     ]
    }
   ],
   "source": [
    "def reconstruct_compare(matrix, matrix_reconst):\n",
    "    # Reset matrix to orignal from csv\n",
    "    matrix = data[1:,:].astype(float)\n",
    "    \n",
    "    # Create a boolean mask for NaN values in original matrix\n",
    "    mask = np.isnan(matrix)\n",
    "\n",
    "    # Find the non-NaN values using the inverse of the mask\n",
    "    non_nan_orig_values = matrix[~mask]\n",
    "    non_nan_recon_values = matrix_reconst[~mask]\n",
    "\n",
    "    # Find average difference\n",
    "    avg_diff = math.sqrt(sum((non_nan_orig_values - non_nan_recon_values)**2) / len(mask[mask == False]))\n",
    "    return avg_diff\n",
    "\n",
    "print(f'Average difference:\\n{reconstruct_compare(matrix, matrix_reconst)}')\n",
    "\n"
   ]
  },
  {
   "cell_type": "markdown",
   "metadata": {},
   "source": [
    "Under the current parameters, we find the average difference to be approximately 1.075\n",
    "\n",
    "### Part (e)"
   ]
  },
  {
   "cell_type": "code",
   "execution_count": 145,
   "metadata": {},
   "outputs": [
    {
     "name": "stdout",
     "output_type": "stream",
     "text": [
      "Jumanji rating:\n",
      "2.3405808120180183\n"
     ]
    }
   ],
   "source": [
    "# Reset matrix to orignal from csv\n",
    "matrix = data[1:,:].astype(float)\n",
    "\n",
    "# Replace string 'NA' and blank with np.nan\n",
    "data[data == 'NA'] = np.nan\n",
    "data[data == ''] = np.nan\n",
    "\n",
    "# Calculate the column averages (ignoring NaN values)\n",
    "column_averages = np.nanmean(matrix, axis=0)\n",
    "\n",
    "# Find the indices of NaN values in each column\n",
    "nan_indices = np.isnan(matrix)\n",
    "\n",
    "# Replace NaN values with respective column averages\n",
    "for col_idx in range(matrix.shape[1]):\n",
    "    column_mask = nan_indices[:, col_idx]\n",
    "    matrix[column_mask, col_idx] = column_averages[col_idx]\n",
    "\n",
    "\n",
    "# Perform SVD\n",
    "u, s, vt = np.linalg.svd(matrix)\n",
    "\n",
    "# Reconstruct\n",
    "matrix_reconst = u[:,0:k] @ np.diag(s[0:k]) @ vt[0:k,:]\n",
    "print(f'Jumanji rating:\\n{matrix_reconst[43,1]}')"
   ]
  },
  {
   "cell_type": "markdown",
   "metadata": {},
   "source": [
    "From this SVD analysis, we estimate that this user would give the movie *Jumanji* a rating of approximately 2.41"
   ]
  },
  {
   "cell_type": "code",
   "execution_count": 146,
   "metadata": {},
   "outputs": [
    {
     "name": "stdout",
     "output_type": "stream",
     "text": [
      "Average difference:\n",
      "0.7748842209341524\n"
     ]
    }
   ],
   "source": [
    "print(f'Average difference:\\n{reconstruct_compare(matrix, matrix_reconst)}')"
   ]
  },
  {
   "cell_type": "markdown",
   "metadata": {},
   "source": [
    "Under the current parameters, we find the average difference to be approximately 0.385\n",
    "\n",
    "### Part (f)"
   ]
  },
  {
   "cell_type": "code",
   "execution_count": 147,
   "metadata": {},
   "outputs": [
    {
     "name": "stdout",
     "output_type": "stream",
     "text": [
      "Jumanji rating:\n",
      "2.369361301591923\n"
     ]
    }
   ],
   "source": [
    "# Reset matrix to orignal from csv\n",
    "matrix = data[1:,:].astype(float)\n",
    "\n",
    "# Replace string 'NA' and blank with np.nan\n",
    "data[data == 'NA'] = np.nan\n",
    "data[data == ''] = np.nan\n",
    "\n",
    "# Calculate the row averages (ignoring NaN values)\n",
    "row_averages = np.nanmean(matrix, axis=1)\n",
    "\n",
    "# Find the indices of NaN values in each row\n",
    "nan_indices = np.isnan(matrix)\n",
    "\n",
    "# Replace NaN values with respective row averages\n",
    "for row_idx in range(matrix.shape[0]):\n",
    "    row_mask = nan_indices[row_idx, :]\n",
    "    matrix[row_idx, row_mask] = row_averages[row_idx]\n",
    "\n",
    "# Perform SVD\n",
    "u, s, vt = np.linalg.svd(matrix)\n",
    "\n",
    "# Reconstruct\n",
    "matrix_reconst = u[:,0:k] @ np.diag(s[0:k]) @ vt[0:k,:]\n",
    "print(f'Jumanji rating:\\n{matrix_reconst[43,1]}')"
   ]
  },
  {
   "cell_type": "markdown",
   "metadata": {},
   "source": [
    "From this SVD analysis, we estimate that this user would give the movie *Jumanji* a rating of approximately 2.76"
   ]
  },
  {
   "cell_type": "code",
   "execution_count": 148,
   "metadata": {},
   "outputs": [
    {
     "name": "stdout",
     "output_type": "stream",
     "text": [
      "Average difference:\n",
      "0.7906486947765896\n"
     ]
    }
   ],
   "source": [
    "print(f'Average difference:\\n{reconstruct_compare(matrix, matrix_reconst)}')"
   ]
  },
  {
   "cell_type": "markdown",
   "metadata": {},
   "source": [
    "Under the current parameters, we find the average difference to be approximately 0.394\n",
    "\n",
    "### Part (g)\n",
    "\n",
    "Replacing missing values with zeroes assumes that those reviewer-movie combinations for which values are missing would be low since the reviewers self select the movies they want to watch. Thus, it would be reasonable to set these missing combinations to zero.\n",
    "\n",
    "Replacing missing values with the column mean assumes that movies tend to get the similar reviews from many reviewers. This seems to imply that there is some objective classification of a \"good\" movie.\n",
    "\n",
    "Replacing missing values with the row mean assumes that a given reviewer tends to give similar reviews to many movies, regardless of the movie or genre.\n",
    "\n",
    "From the analyses performed above, it seems that using the column average to replace missing values yielded the smallest difference between the original and reconstructed non-missing values. In our analysis, this difference metric was calculated as 0.385\n",
    "\n",
    "In addition to methods such as column padding and row padding as used here, other methods such as imputation may be used. In imputation methods, missing values are estimated based upon the values of the neighboring matrix elements. This would result in localized groups of similar values for similar (i,j) coordinate pairs within the matrix.\n",
    "\n",
    "### Part (h)"
   ]
  },
  {
   "cell_type": "code",
   "execution_count": 149,
   "metadata": {},
   "outputs": [
    {
     "name": "stdout",
     "output_type": "stream",
     "text": [
      "Jumanji rating:\n",
      "2.369361301591923\n"
     ]
    }
   ],
   "source": [
    "from sklearn.decomposition import NMF\n",
    "\n",
    "# Reset matrix to orignal from csv\n",
    "matrix = data[1:,:].astype(float)\n",
    "\n",
    "# Replace string 'NA' and blank with np.nan\n",
    "data[data == 'NA'] = np.nan\n",
    "data[data == ''] = np.nan\n",
    "\n",
    "# Calculate the column averages (ignoring NaN values)\n",
    "column_averages = np.nanmean(matrix, axis=0)\n",
    "\n",
    "# Find the indices of NaN values in each column\n",
    "nan_indices = np.isnan(matrix)\n",
    "\n",
    "# Replace NaN values with respective column averages\n",
    "for col_idx in range(matrix.shape[1]):\n",
    "    column_mask = nan_indices[:, col_idx]\n",
    "    matrix[column_mask, col_idx] = column_averages[col_idx]\n",
    "\n",
    "# Define NMF parameters and fit model\n",
    "nmf = NMF(n_components=k, init='random', random_state=0, max_iter=200)\n",
    "nmf.fit(matrix)\n",
    "\n",
    "# Get the transformed components (basis vectors)\n",
    "components = nmf.components_\n",
    "\n",
    "# Get the transformed data (factorization coefficients)\n",
    "transformed_data = nmf.transform(matrix)\n",
    "\n",
    "# Reconstruct the original matrix\n",
    "reconstructed_matrix = nmf.inverse_transform(nmf.transform(matrix))\n",
    "\n",
    "print(f'Jumanji rating:\\n{matrix_reconst[43,1]}')"
   ]
  },
  {
   "cell_type": "markdown",
   "metadata": {},
   "source": [
    "From this NMF analysis, we estimate that this individual would give *Jumanji* a rating of 2.76"
   ]
  },
  {
   "cell_type": "code",
   "execution_count": 150,
   "metadata": {},
   "outputs": [
    {
     "name": "stdout",
     "output_type": "stream",
     "text": [
      "Average difference:\n",
      "0.7854119094255039\n"
     ]
    }
   ],
   "source": [
    "print(f'Average difference:\\n{reconstruct_compare(matrix, reconstructed_matrix)}')"
   ]
  },
  {
   "cell_type": "markdown",
   "metadata": {},
   "source": [
    "Under the current parameters, we find the average difference to be approximately 0.388\n",
    "\n",
    "This average difference value from the NMF analysis is very close to the one we found with column padding using the SVD analysis. The average difference metric from that SVD model was 0.385\n",
    "\n",
    "### Part (i)"
   ]
  }
 ],
 "metadata": {
  "kernelspec": {
   "display_name": ".venv",
   "language": "python",
   "name": "python3"
  },
  "language_info": {
   "codemirror_mode": {
    "name": "ipython",
    "version": 3
   },
   "file_extension": ".py",
   "mimetype": "text/x-python",
   "name": "python",
   "nbconvert_exporter": "python",
   "pygments_lexer": "ipython3",
   "version": "3.11.4"
  },
  "orig_nbformat": 4
 },
 "nbformat": 4,
 "nbformat_minor": 2
}
