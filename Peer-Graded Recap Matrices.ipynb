{
 "cells": [
  {
   "cell_type": "markdown",
   "metadata": {},
   "source": [
    "# Peer-Graded Recap Matrices"
   ]
  },
  {
   "cell_type": "markdown",
   "metadata": {},
   "source": [
    "### Part (a)"
   ]
  },
  {
   "cell_type": "markdown",
   "metadata": {},
   "source": [
    "This matrix is sparce, as most of its elements are zero.\n",
    "\n",
    "This matrix is also symmetric, as the $(i,j)$ element is the same as the $(j,i)$ element for all $i \\neq j$."
   ]
  },
  {
   "cell_type": "markdown",
   "metadata": {},
   "source": [
    "### Part (b)"
   ]
  },
  {
   "cell_type": "code",
   "execution_count": 8,
   "metadata": {},
   "outputs": [
    {
     "name": "stdout",
     "output_type": "stream",
     "text": [
      "Matrix:\n",
      "[[ 2.   0.   0.   0.   0.   0. ]\n",
      " [ 0.   1.5  0.   0.   0.   0. ]\n",
      " [ 0.   0.  -3.   0.   0.   0. ]\n",
      " [ 0.   0.   0.  -1.   0.   0. ]\n",
      " [ 0.   0.   0.   0.   0.5  0. ]\n",
      " [ 0.   0.   0.   0.   0.  -0.5]]\n",
      "\n",
      "\n",
      "Eigenvalues:\n",
      "[ 2.   1.5 -3.  -1.   0.5 -0.5]\n",
      "\n",
      "\n",
      "Eigenvectors:\n",
      "[[1. 0. 0. 0. 0. 0.]\n",
      " [0. 1. 0. 0. 0. 0.]\n",
      " [0. 0. 1. 0. 0. 0.]\n",
      " [0. 0. 0. 1. 0. 0.]\n",
      " [0. 0. 0. 0. 1. 0.]\n",
      " [0. 0. 0. 0. 0. 1.]]\n"
     ]
    }
   ],
   "source": [
    "import numpy as np\n",
    "\n",
    "# Build matrix\n",
    "nums = [2,1.5,-3,-1,0.5,-0.5]\n",
    "matrix = np.diag(nums)\n",
    "print('Matrix:')\n",
    "print(matrix)\n",
    "print('\\n')\n",
    "\n",
    "# Get eigenpairs\n",
    "eigenvalues, eigenvectors = np.linalg.eig(matrix)\n",
    "print('Eigenvalues:')\n",
    "print(eigenvalues)\n",
    "print('\\n')\n",
    "print('Eigenvectors:')\n",
    "print(eigenvectors)"
   ]
  },
  {
   "cell_type": "markdown",
   "metadata": {},
   "source": [
    "Shown formulaically, the eigenvalues of the matrix are found as follows:\n",
    "$$\\begin{vmatrix}\n",
    "2-\\lambda & 0 & 0 & 0 & 0 & 0 \\\\\n",
    "0 & 1.5-\\lambda & 0 & 0 & 0 & 0 \\\\\n",
    "0 & 0 & -3-\\lambda & 0 & 0 & 0 \\\\\n",
    "0 & 0 & 0 & -1-\\lambda & 0 & 0 \\\\\n",
    "0 & 0 & 0 & 0 & 0.5-\\lambda & 0 \\\\\n",
    "0 & 0 & 0 & 0 & 0 & 1-\\lambda\n",
    "\\end{vmatrix}$$\n",
    "\n",
    "$$= (2-\\lambda)*\\begin{vmatrix}\n",
    "1.5-\\lambda & 0 & 0 & 0 & 0 \\\\\n",
    "0 & -3-\\lambda & 0 & 0 & 0 \\\\\n",
    "0 & 0 & -1-\\lambda & 0 & 0 \\\\\n",
    "0 & 0 & 0 & 0.5-\\lambda & 0 \\\\\n",
    "0 & 0 & 0 & 0 & 1-\\lambda\n",
    "\\end{vmatrix} + 0$$"
   ]
  }
 ],
 "metadata": {
  "kernelspec": {
   "display_name": "Python 3",
   "language": "python",
   "name": "python3"
  },
  "language_info": {
   "codemirror_mode": {
    "name": "ipython",
    "version": 3
   },
   "file_extension": ".py",
   "mimetype": "text/x-python",
   "name": "python",
   "nbconvert_exporter": "python",
   "pygments_lexer": "ipython3",
   "version": "3.10.8"
  },
  "orig_nbformat": 4
 },
 "nbformat": 4,
 "nbformat_minor": 2
}
