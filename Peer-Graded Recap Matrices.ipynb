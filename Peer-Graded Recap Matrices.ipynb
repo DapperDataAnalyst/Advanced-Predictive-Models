{
 "cells": [
  {
   "cell_type": "markdown",
   "metadata": {},
   "source": [
    "# Peer-Graded Recap Matrices"
   ]
  },
  {
   "cell_type": "markdown",
   "metadata": {},
   "source": [
    "### Part (a)"
   ]
  },
  {
   "cell_type": "markdown",
   "metadata": {},
   "source": [
    "This matrix is sparce, as most of its elements are zero.\n",
    "\n",
    "This matrix is also symmetric, as the $(i,j)$ element is the same as the $(j,i)$ element for all $i \\neq j$."
   ]
  },
  {
   "cell_type": "markdown",
   "metadata": {},
   "source": [
    "### Part (b)"
   ]
  },
  {
   "cell_type": "code",
   "execution_count": 1,
   "metadata": {},
   "outputs": [
    {
     "name": "stdout",
     "output_type": "stream",
     "text": [
      "Matrix:\n",
      "[[ 2.   0.   0.   0.   0.   0. ]\n",
      " [ 0.   1.5  0.   0.   0.   0. ]\n",
      " [ 0.   0.  -3.   0.   0.   0. ]\n",
      " [ 0.   0.   0.  -1.   0.   0. ]\n",
      " [ 0.   0.   0.   0.   0.5  0. ]\n",
      " [ 0.   0.   0.   0.   0.  -0.5]]\n",
      "\n",
      "\n",
      "Eigenvalues:\n",
      "[ 2.   1.5 -3.  -1.   0.5 -0.5]\n",
      "\n",
      "\n",
      "Eigenvectors:\n",
      "[[1. 0. 0. 0. 0. 0.]\n",
      " [0. 1. 0. 0. 0. 0.]\n",
      " [0. 0. 1. 0. 0. 0.]\n",
      " [0. 0. 0. 1. 0. 0.]\n",
      " [0. 0. 0. 0. 1. 0.]\n",
      " [0. 0. 0. 0. 0. 1.]]\n"
     ]
    }
   ],
   "source": [
    "import numpy as np\n",
    "\n",
    "# Build matrix\n",
    "nums = [2,1.5,-3,-1,0.5,-0.5]\n",
    "matrix = np.diag(nums)\n",
    "print('Matrix:')\n",
    "print(matrix)\n",
    "print('\\n')\n",
    "\n",
    "# Get eigenpairs\n",
    "eigenvalues, eigenvectors = np.linalg.eig(matrix)\n",
    "print('Eigenvalues:')\n",
    "print(eigenvalues)\n",
    "print('\\n')\n",
    "print('Eigenvectors:')\n",
    "print(eigenvectors)"
   ]
  },
  {
   "cell_type": "markdown",
   "metadata": {},
   "source": [
    "Shown formulaically, the eigenvalues of the matrix are found as follows:\n",
    "$$\\begin{vmatrix}\n",
    "2-\\lambda & 0 & 0 & 0 & 0 & 0 \\\\\n",
    "0 & 1.5-\\lambda & 0 & 0 & 0 & 0 \\\\\n",
    "0 & 0 & -3-\\lambda & 0 & 0 & 0 \\\\\n",
    "0 & 0 & 0 & -1-\\lambda & 0 & 0 \\\\\n",
    "0 & 0 & 0 & 0 & 0.5-\\lambda & 0 \\\\\n",
    "0 & 0 & 0 & 0 & 0 & -0.5-\\lambda\n",
    "\\end{vmatrix} = 0$$\n",
    "\n",
    "$$= (2-\\lambda)*\\begin{vmatrix}\n",
    "1.5-\\lambda & 0 & 0 & 0 & 0 \\\\\n",
    "0 & -3-\\lambda & 0 & 0 & 0 \\\\\n",
    "0 & 0 & -1-\\lambda & 0 & 0 \\\\\n",
    "0 & 0 & 0 & 0.5-\\lambda & 0 \\\\\n",
    "0 & 0 & 0 & 0 & -0.5-\\lambda\n",
    "\\end{vmatrix} - 0 = 0$$\n",
    "\n",
    "$$= (2-\\lambda)*(1.5-\\lambda)*\\begin{vmatrix}\n",
    "-3-\\lambda & 0 & 0 & 0 \\\\\n",
    "0 & -1-\\lambda & 0 & 0 \\\\\n",
    "0 & 0 & 0.5-\\lambda & 0 \\\\\n",
    "0 & 0 & 0 & -0.5-\\lambda\n",
    "\\end{vmatrix} - 0 = 0$$\n",
    "\n",
    "$$= (2-\\lambda)*(1.5-\\lambda)*(-3-\\lambda)*\\begin{vmatrix}\n",
    "-1-\\lambda & 0 & 0 \\\\\n",
    "0 & 0.5-\\lambda & 0 \\\\\n",
    "0 & 0 & -0.5-\\lambda\n",
    "\\end{vmatrix} - 0 = 0$$\n",
    "\n",
    "$$= (2-\\lambda)*(1.5-\\lambda)*(-3-\\lambda)*(-1-\\lambda)*\\begin{vmatrix}\n",
    "0.5-\\lambda & 0 \\\\\n",
    "0 & -0.5-\\lambda\n",
    "\\end{vmatrix} - 0 = 0$$\n",
    "\n",
    "$$= (2-\\lambda)*(1.5-\\lambda)*(-3-\\lambda)*(-1-\\lambda)*(0.5-\\lambda)*(-0.5-\\lambda) = 0$$\n",
    "\n",
    "This final equation shows that the possible solutions for $\\lambda$ are 2, 1.5, -3, -1, 0.5, -0.5.\n",
    "\n",
    "Taking $\\lambda = 2$ for an example, we can find the corresponding eigenvector as follows:\n",
    "$$Av = \\lambda v$$\n",
    "\n",
    "$$\\begin{bmatrix}\n",
    "2 & 0 & 0 & 0 & 0 & 0 \\\\\n",
    "0 & 1.5 & 0 & 0 & 0 & 0 \\\\\n",
    "0 & 0 & -3 & 0 & 0 & 0 \\\\\n",
    "0 & 0 & 0 & -1 & 0 & 0 \\\\\n",
    "0 & 0 & 0 & 0 & 0.5 & 0 \\\\\n",
    "0 & 0 & 0 & 0 & 0 & -0.5\n",
    "\\end{bmatrix}\n",
    "\\begin{bmatrix}\n",
    "a \\\\\n",
    "b \\\\\n",
    "c \\\\\n",
    "d \\\\\n",
    "e \\\\\n",
    "f\n",
    "\\end{bmatrix} = 2\n",
    "\\begin{bmatrix}\n",
    "a \\\\\n",
    "b \\\\\n",
    "c \\\\\n",
    "d \\\\\n",
    "e \\\\\n",
    "f\n",
    "\\end{bmatrix}$$\n",
    "\n",
    "$$= 2 \\begin{bmatrix}\n",
    "1 \\\\\n",
    "0 \\\\\n",
    "0 \\\\\n",
    "0 \\\\\n",
    "0 \\\\\n",
    "0\n",
    "\\end{bmatrix}$$\n",
    "\n",
    "Thus we find an eigenvector of $\\lambda = 2$ to be $= \\begin{bmatrix}\n",
    "1 \\\\\n",
    "0 \\\\\n",
    "0 \\\\\n",
    "0 \\\\\n",
    "0 \\\\\n",
    "0\n",
    "\\end{bmatrix}$\n",
    "\n",
    "This logic can be extended to the other eigenvalues following this same process. The eigenvalue listed on the $j^{th}$ column of the original matrix diagonal will have a corresponding eigenvector that has an element 1 in the $j^{th}$ row of the vector, with zeroes in all other rows.\n"
   ]
  },
  {
   "cell_type": "markdown",
   "metadata": {},
   "source": [
    "### Part(c)"
   ]
  },
  {
   "cell_type": "markdown",
   "metadata": {},
   "source": [
    "The Frobenius norm $||A||$ is found as $\\sqrt{\\sum_{ij} A_{ij}^2}$\n",
    "$$= \\sqrt{2^2 + 1.5^2 + (-3)^2 + (-1)^2 + 0.5^2 + (-0.5)^2} = 4.093$$\n",
    "\n",
    "We know that a singular value is the absolute value of an eigenvalue, and the operator norm is the largest singular value. Thus, for this matrix, the operator norm is 3.\n",
    "\n",
    "For this matrix, the nuclear norm is the sum of the absolute values of the eigenvalues, which is $2+1.5+3+1+0.5+0.5 = 8.5$"
   ]
  },
  {
   "cell_type": "markdown",
   "metadata": {},
   "source": [
    "### Part(d)"
   ]
  },
  {
   "cell_type": "markdown",
   "metadata": {},
   "source": [
    "The largest eigenvalue from Part (b) is 2. The operator norm is 3. So the largest eigenvalue does not equal the operator norm. The operator norm is equal to the largest *absolute value* eigenvalue."
   ]
  }
 ],
 "metadata": {
  "kernelspec": {
   "display_name": "Python 3",
   "language": "python",
   "name": "python3"
  },
  "language_info": {
   "codemirror_mode": {
    "name": "ipython",
    "version": 3
   },
   "file_extension": ".py",
   "mimetype": "text/x-python",
   "name": "python",
   "nbconvert_exporter": "python",
   "pygments_lexer": "ipython3",
   "version": "3.11.4"
  },
  "orig_nbformat": 4
 },
 "nbformat": 4,
 "nbformat_minor": 2
}
