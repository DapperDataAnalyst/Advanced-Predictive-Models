{
 "cells": [
  {
   "cell_type": "markdown",
   "metadata": {},
   "source": [
    "# Staff-Graded Recap Matrices"
   ]
  },
  {
   "cell_type": "markdown",
   "metadata": {},
   "source": [
    "### Part (a)\n"
   ]
  },
  {
   "cell_type": "code",
   "execution_count": 1,
   "metadata": {},
   "outputs": [
    {
     "name": "stdout",
     "output_type": "stream",
     "text": [
      "99.99971353\n"
     ]
    }
   ],
   "source": [
    "import numpy as np\n",
    "from scipy.sparse import csr_matrix\n",
    "import time\n",
    "import pandas as pd\n",
    "\n",
    "data = np.genfromtxt('TexasCityDistanceMatrix.csv', delimiter=',')\n",
    "key = pd.read_csv('TexasCityKey.csv', encoding = \"ISO-8859-1\")\n",
    "\n",
    "# Drop the first row and column\n",
    "matrix = data[1:, 1:]\n",
    "\n",
    "# Find the maximum value ignoring NaN\n",
    "max_value = np.nanmax(matrix)\n",
    "print(max_value)"
   ]
  },
  {
   "cell_type": "markdown",
   "metadata": {},
   "source": [
    "The maximum value in the matrix is 99.9997. This seems to indicate that the NA values in the matrix represent values of 100 or greater."
   ]
  },
  {
   "cell_type": "markdown",
   "metadata": {},
   "source": [
    "### Part (b)\n"
   ]
  },
  {
   "cell_type": "code",
   "execution_count": 2,
   "metadata": {},
   "outputs": [
    {
     "name": "stdout",
     "output_type": "stream",
     "text": [
      "Column index of the lowest non-zero value in row 749 is 276\n",
      "Cinco Ranch CDP\n",
      "75\n"
     ]
    }
   ],
   "source": [
    "# Note that the row and column headers have been removed, and thus Katy is the 750th row in the matrix\n",
    "# in its current form\n",
    "\n",
    "# Specify the row index\n",
    "row_index = 749\n",
    "\n",
    "# Find the column index of the lowest non-zero value that is not NaN in the specified row\n",
    "row_values = matrix[row_index]\n",
    "nonzero_indices = np.where((row_values != 0) & (~np.isnan(row_values)))[0]\n",
    "\n",
    "min_index = np.argmin(row_values[nonzero_indices])\n",
    "column_index = nonzero_indices[min_index]\n",
    "\n",
    "print(f\"Column index of the lowest non-zero value in row {row_index} is {column_index}\")\n",
    "print(key.iloc[column_index,1])\n",
    "\n",
    "\n",
    "# Find locations within 25 miles of Flower Mound\n",
    "# Flower Mound is the 507th row in the matrix\n",
    "# Find row of interest\n",
    "row_values = matrix[506, :]\n",
    "\n",
    "# Remove zeroes\n",
    "nonzero_values = row_values[row_values != 0]\n",
    "\n",
    "# Find values less than 25\n",
    "values = nonzero_values[nonzero_values <= 25]\n",
    "print(len(values))"
   ]
  },
  {
   "cell_type": "markdown",
   "metadata": {},
   "source": [
    "The closest location to Katy is Cinco Ranch.\n",
    "\n",
    "There are 75 locations within 25 miles of Flower Mound."
   ]
  },
  {
   "cell_type": "markdown",
   "metadata": {},
   "source": [
    "### Part (c)\n"
   ]
  },
  {
   "cell_type": "code",
   "execution_count": 14,
   "metadata": {},
   "outputs": [
    {
     "name": "stdout",
     "output_type": "stream",
     "text": [
      "0.004388093948364258\n"
     ]
    }
   ],
   "source": [
    "start = time.time()\n",
    "np.sum(matrix)\n",
    "end = time.time()\n",
    "print(end - start)"
   ]
  },
  {
   "cell_type": "markdown",
   "metadata": {},
   "source": [
    "On my machine and depending on the run, this operation takes approximately 0.004 seconds."
   ]
  },
  {
   "cell_type": "markdown",
   "metadata": {},
   "source": [
    "### Part (d)\n"
   ]
  },
  {
   "cell_type": "code",
   "execution_count": 22,
   "metadata": {},
   "outputs": [
    {
     "name": "stdout",
     "output_type": "stream",
     "text": [
      "0.0020589828491210938\n"
     ]
    }
   ],
   "source": [
    "# Set values greater than 50 to zero\n",
    "mod_matrix = matrix\n",
    "mod_matrix[mod_matrix > 50] = 0\n",
    "\n",
    "# Set NAs to zero\n",
    "mod_matrix = np.nan_to_num(mod_matrix)\n",
    "\n",
    "start = time.time()\n",
    "np.sum(mod_matrix)\n",
    "end = time.time()\n",
    "print(end - start)"
   ]
  },
  {
   "cell_type": "markdown",
   "metadata": {},
   "source": [
    "On my machine and depending on the run, this operation takes approximately 0.002 seconds."
   ]
  },
  {
   "cell_type": "markdown",
   "metadata": {},
   "source": [
    "### Part (e)"
   ]
  },
  {
   "cell_type": "code",
   "execution_count": 40,
   "metadata": {},
   "outputs": [
    {
     "name": "stdout",
     "output_type": "stream",
     "text": [
      "0.006075859069824219\n"
     ]
    }
   ],
   "source": [
    "sparse_matrix = csr_matrix(matrix)\n",
    "\n",
    "start = time.time()\n",
    "np.sum(sparse_matrix)\n",
    "end = time.time()\n",
    "print(end - start)"
   ]
  },
  {
   "cell_type": "markdown",
   "metadata": {},
   "source": [
    "### Part (f)\n",
    "Knowing that the matrix is symmetric and has zeroes on the diagonal, we could save space by storing the matrix in some data structure other than a NumPy array. For the left triangle of the matrix, for non-zero elements, we could store the element value and row-column index pair. It would then be implicit that all elements mirrored across the diagonal are equal. In other words, element (j,i) equals element (i,j). It would also be implicit that index pairs not specifically associated with a non-zero element value are zero. In essence, we do not need to store these zero elements at all, as they can be reintroduced at a later time if needed."
   ]
  }
 ],
 "metadata": {
  "kernelspec": {
   "display_name": "Python 3",
   "language": "python",
   "name": "python3"
  },
  "language_info": {
   "codemirror_mode": {
    "name": "ipython",
    "version": 3
   },
   "file_extension": ".py",
   "mimetype": "text/x-python",
   "name": "python",
   "nbconvert_exporter": "python",
   "pygments_lexer": "ipython3",
   "version": "3.10.8"
  },
  "orig_nbformat": 4
 },
 "nbformat": 4,
 "nbformat_minor": 2
}
